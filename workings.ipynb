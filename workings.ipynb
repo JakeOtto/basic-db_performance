{
 "cells": [
  {
   "cell_type": "markdown",
   "metadata": {},
   "source": [
    "# DB Performance exercises"
   ]
  },
  {
   "cell_type": "code",
   "execution_count": 17,
   "metadata": {},
   "outputs": [
    {
     "name": "stdout",
     "output_type": "stream",
     "text": [
      "The sql extension is already loaded. To reload it, use:\n",
      "  %reload_ext sql\n"
     ]
    }
   ],
   "source": [
    "%load_ext sql\n",
    "%sql postgresql+psycopg2://localhost:5432/db_performance\n",
    "import timeit\n",
    "from sqlalchemy import create_engine\n",
    "import pandas as pd"
   ]
  },
  {
   "cell_type": "markdown",
   "metadata": {},
   "source": [
    "- loading modules "
   ]
  },
  {
   "cell_type": "code",
   "execution_count": 18,
   "metadata": {},
   "outputs": [
    {
     "name": "stdout",
     "output_type": "stream",
     "text": [
      " * postgresql+psycopg2://localhost:5432/db_performance\n",
      "5 rows affected.\n"
     ]
    },
    {
     "data": {
      "text/html": [
       "<table>\n",
       "    <thead>\n",
       "        <tr>\n",
       "            <th>id</th>\n",
       "            <th>first_name</th>\n",
       "            <th>last_name</th>\n",
       "            <th>age</th>\n",
       "            <th>course_id</th>\n",
       "        </tr>\n",
       "    </thead>\n",
       "    <tbody>\n",
       "        <tr>\n",
       "            <td>1</td>\n",
       "            <td>John</td>\n",
       "            <td>Doe</td>\n",
       "            <td>21</td>\n",
       "            <td>1</td>\n",
       "        </tr>\n",
       "        <tr>\n",
       "            <td>2</td>\n",
       "            <td>Jane</td>\n",
       "            <td>Smith</td>\n",
       "            <td>22</td>\n",
       "            <td>2</td>\n",
       "        </tr>\n",
       "        <tr>\n",
       "            <td>3</td>\n",
       "            <td>Mark</td>\n",
       "            <td>Twain</td>\n",
       "            <td>20</td>\n",
       "            <td>1</td>\n",
       "        </tr>\n",
       "        <tr>\n",
       "            <td>4</td>\n",
       "            <td>Emily</td>\n",
       "            <td>Dickinson</td>\n",
       "            <td>22</td>\n",
       "            <td>3</td>\n",
       "        </tr>\n",
       "        <tr>\n",
       "            <td>5</td>\n",
       "            <td>Louisa</td>\n",
       "            <td>Alcott</td>\n",
       "            <td>21</td>\n",
       "            <td>2</td>\n",
       "        </tr>\n",
       "    </tbody>\n",
       "</table>"
      ],
      "text/plain": [
       "[(1, 'John', 'Doe', 21, 1),\n",
       " (2, 'Jane', 'Smith', 22, 2),\n",
       " (3, 'Mark', 'Twain', 20, 1),\n",
       " (4, 'Emily', 'Dickinson', 22, 3),\n",
       " (5, 'Louisa', 'Alcott', 21, 2)]"
      ]
     },
     "execution_count": 18,
     "metadata": {},
     "output_type": "execute_result"
    }
   ],
   "source": [
    "%%sql\n",
    "SELECT * FROM students;"
   ]
  },
  {
   "cell_type": "markdown",
   "metadata": {},
   "source": [
    "- looking at all the rows in the students table"
   ]
  },
  {
   "cell_type": "code",
   "execution_count": 24,
   "metadata": {},
   "outputs": [
    {
     "name": "stdout",
     "output_type": "stream",
     "text": [
      " * postgresql+psycopg2://localhost:5432/db_performance\n",
      "3 rows affected.\n"
     ]
    },
    {
     "data": {
      "text/html": [
       "<table>\n",
       "    <thead>\n",
       "        <tr>\n",
       "            <th>id</th>\n",
       "            <th>name</th>\n",
       "        </tr>\n",
       "    </thead>\n",
       "    <tbody>\n",
       "        <tr>\n",
       "            <td>1</td>\n",
       "            <td>Mathematics</td>\n",
       "        </tr>\n",
       "        <tr>\n",
       "            <td>2</td>\n",
       "            <td>Physics</td>\n",
       "        </tr>\n",
       "        <tr>\n",
       "            <td>3</td>\n",
       "            <td>Chemistry</td>\n",
       "        </tr>\n",
       "    </tbody>\n",
       "</table>"
      ],
      "text/plain": [
       "[(1, 'Mathematics'), (2, 'Physics'), (3, 'Chemistry')]"
      ]
     },
     "execution_count": 24,
     "metadata": {},
     "output_type": "execute_result"
    }
   ],
   "source": [
    "%%sql \n",
    "SELECT * FROM courses;"
   ]
  },
  {
   "cell_type": "markdown",
   "metadata": {},
   "source": [
    "- looking at pathetic course table"
   ]
  },
  {
   "cell_type": "code",
   "execution_count": 19,
   "metadata": {},
   "outputs": [
    {
     "name": "stdout",
     "output_type": "stream",
     "text": [
      " * postgresql+psycopg2://localhost:5432/db_performance\n",
      "3 rows affected.\n"
     ]
    },
    {
     "data": {
      "text/html": [
       "<table>\n",
       "    <thead>\n",
       "        <tr>\n",
       "            <th>QUERY PLAN</th>\n",
       "        </tr>\n",
       "    </thead>\n",
       "    <tbody>\n",
       "        <tr>\n",
       "            <td>Seq Scan on students  (cost=0.00..10.70 rows=70 width=1044) (actual time=0.008..0.010 rows=5 loops=1)</td>\n",
       "        </tr>\n",
       "        <tr>\n",
       "            <td>Planning Time: 0.064 ms</td>\n",
       "        </tr>\n",
       "        <tr>\n",
       "            <td>Execution Time: 0.020 ms</td>\n",
       "        </tr>\n",
       "    </tbody>\n",
       "</table>"
      ],
      "text/plain": [
       "[('Seq Scan on students  (cost=0.00..10.70 rows=70 width=1044) (actual time=0.008..0.010 rows=5 loops=1)',),\n",
       " ('Planning Time: 0.064 ms',),\n",
       " ('Execution Time: 0.020 ms',)]"
      ]
     },
     "execution_count": 19,
     "metadata": {},
     "output_type": "execute_result"
    }
   ],
   "source": [
    "%%sql\n",
    "EXPLAIN ANALYZE SELECT * FROM students;"
   ]
  },
  {
   "cell_type": "markdown",
   "metadata": {},
   "source": [
    "- above shows breakdown on sequential table scan/retreival\n",
    "- time for query execution planning\n",
    "- time for execution"
   ]
  },
  {
   "cell_type": "markdown",
   "metadata": {},
   "source": [
    "==================================================================================================\n",
    "## Exercise - retreive info on students under 25 and measure execution time."
   ]
  },
  {
   "cell_type": "code",
   "execution_count": 20,
   "metadata": {},
   "outputs": [
    {
     "name": "stdout",
     "output_type": "stream",
     "text": [
      " * postgresql+psycopg2://localhost:5432/db_performance\n",
      "5 rows affected.\n"
     ]
    },
    {
     "data": {
      "text/html": [
       "<table>\n",
       "    <thead>\n",
       "        <tr>\n",
       "            <th>id</th>\n",
       "            <th>first_name</th>\n",
       "            <th>last_name</th>\n",
       "            <th>age</th>\n",
       "            <th>course_id</th>\n",
       "        </tr>\n",
       "    </thead>\n",
       "    <tbody>\n",
       "        <tr>\n",
       "            <td>1</td>\n",
       "            <td>John</td>\n",
       "            <td>Doe</td>\n",
       "            <td>21</td>\n",
       "            <td>1</td>\n",
       "        </tr>\n",
       "        <tr>\n",
       "            <td>2</td>\n",
       "            <td>Jane</td>\n",
       "            <td>Smith</td>\n",
       "            <td>22</td>\n",
       "            <td>2</td>\n",
       "        </tr>\n",
       "        <tr>\n",
       "            <td>3</td>\n",
       "            <td>Mark</td>\n",
       "            <td>Twain</td>\n",
       "            <td>20</td>\n",
       "            <td>1</td>\n",
       "        </tr>\n",
       "        <tr>\n",
       "            <td>4</td>\n",
       "            <td>Emily</td>\n",
       "            <td>Dickinson</td>\n",
       "            <td>22</td>\n",
       "            <td>3</td>\n",
       "        </tr>\n",
       "        <tr>\n",
       "            <td>5</td>\n",
       "            <td>Louisa</td>\n",
       "            <td>Alcott</td>\n",
       "            <td>21</td>\n",
       "            <td>2</td>\n",
       "        </tr>\n",
       "    </tbody>\n",
       "</table>"
      ],
      "text/plain": [
       "[(1, 'John', 'Doe', 21, 1),\n",
       " (2, 'Jane', 'Smith', 22, 2),\n",
       " (3, 'Mark', 'Twain', 20, 1),\n",
       " (4, 'Emily', 'Dickinson', 22, 3),\n",
       " (5, 'Louisa', 'Alcott', 21, 2)]"
      ]
     },
     "execution_count": 20,
     "metadata": {},
     "output_type": "execute_result"
    }
   ],
   "source": [
    "%%sql\n",
    "SELECT * FROM students WHERE age<25;"
   ]
  },
  {
   "cell_type": "markdown",
   "metadata": {},
   "source": [
    "- first ensuring we have the correct sample (this query still returns all records)"
   ]
  },
  {
   "cell_type": "code",
   "execution_count": 21,
   "metadata": {},
   "outputs": [
    {
     "name": "stdout",
     "output_type": "stream",
     "text": [
      " * postgresql+psycopg2://localhost:5432/db_performance\n",
      "4 rows affected.\n"
     ]
    },
    {
     "data": {
      "text/html": [
       "<table>\n",
       "    <thead>\n",
       "        <tr>\n",
       "            <th>QUERY PLAN</th>\n",
       "        </tr>\n",
       "    </thead>\n",
       "    <tbody>\n",
       "        <tr>\n",
       "            <td>Seq Scan on students  (cost=0.00..10.88 rows=23 width=1044) (actual time=0.006..0.007 rows=5 loops=1)</td>\n",
       "        </tr>\n",
       "        <tr>\n",
       "            <td>&nbsp;&nbsp;Filter: (age &lt; 25)</td>\n",
       "        </tr>\n",
       "        <tr>\n",
       "            <td>Planning Time: 0.033 ms</td>\n",
       "        </tr>\n",
       "        <tr>\n",
       "            <td>Execution Time: 0.016 ms</td>\n",
       "        </tr>\n",
       "    </tbody>\n",
       "</table>"
      ],
      "text/plain": [
       "[('Seq Scan on students  (cost=0.00..10.88 rows=23 width=1044) (actual time=0.006..0.007 rows=5 loops=1)',),\n",
       " ('  Filter: (age < 25)',),\n",
       " ('Planning Time: 0.033 ms',),\n",
       " ('Execution Time: 0.016 ms',)]"
      ]
     },
     "execution_count": 21,
     "metadata": {},
     "output_type": "execute_result"
    }
   ],
   "source": [
    "%%sql\n",
    "EXPLAIN ANALYZE SELECT * FROM students WHERE age<25;"
   ]
  },
  {
   "cell_type": "markdown",
   "metadata": {},
   "source": [
    "- Using EXPLAIN ANALYZE we can see that the inclusion of the WHERE statement has increased the measured planning time but reduced execution time in EXPLAIN ANALYZE, it also decreased the sequential scan time.\n",
    "- Total time should be calculated by suming planning time and execution time"
   ]
  },
  {
   "cell_type": "markdown",
   "metadata": {},
   "source": [
    "> with WHERE =(0.033+0.016) = 0.049     ////////////     without = (0.064+0.02) = 0.084\n",
    "- here we can see that suprisingly the WHERE statement decreased the total time even when all records are still being returned\n",
    "\n",
    "- ALso repeating the exercise wields varying results (perhaps this would be more consitent with a larger sample size) \n"
   ]
  },
  {
   "cell_type": "markdown",
   "metadata": {},
   "source": [
    "==================================================================================================\n",
    "## Creating and measuring indexing impact"
   ]
  },
  {
   "cell_type": "code",
   "execution_count": 23,
   "metadata": {},
   "outputs": [
    {
     "name": "stdout",
     "output_type": "stream",
     "text": [
      " * postgresql+psycopg2://localhost:5432/db_performance\n",
      "Done.\n"
     ]
    },
    {
     "data": {
      "text/plain": [
       "[]"
      ]
     },
     "execution_count": 23,
     "metadata": {},
     "output_type": "execute_result"
    }
   ],
   "source": [
    "%%sql\n",
    "CREATE INDEX idx_students_course_id ON students (course_id);   "
   ]
  },
  {
   "cell_type": "markdown",
   "metadata": {},
   "source": [
    "- Above we index the students table with the course_id value\n",
    "- next exercise - SELECT query that retrieves all students along with their course names and measure the changes in execution time using the EXPLAIN ANALYZE command in PostgreSQL."
   ]
  },
  {
   "cell_type": "code",
   "execution_count": 29,
   "metadata": {},
   "outputs": [
    {
     "name": "stdout",
     "output_type": "stream",
     "text": [
      " * postgresql+psycopg2://localhost:5432/db_performance\n",
      "5 rows affected.\n"
     ]
    },
    {
     "data": {
      "text/html": [
       "<table>\n",
       "    <thead>\n",
       "        <tr>\n",
       "            <th>first_name</th>\n",
       "            <th>last_name</th>\n",
       "            <th>name</th>\n",
       "        </tr>\n",
       "    </thead>\n",
       "    <tbody>\n",
       "        <tr>\n",
       "            <td>Mark</td>\n",
       "            <td>Twain</td>\n",
       "            <td>Mathematics</td>\n",
       "        </tr>\n",
       "        <tr>\n",
       "            <td>John</td>\n",
       "            <td>Doe</td>\n",
       "            <td>Mathematics</td>\n",
       "        </tr>\n",
       "        <tr>\n",
       "            <td>Louisa</td>\n",
       "            <td>Alcott</td>\n",
       "            <td>Physics</td>\n",
       "        </tr>\n",
       "        <tr>\n",
       "            <td>Jane</td>\n",
       "            <td>Smith</td>\n",
       "            <td>Physics</td>\n",
       "        </tr>\n",
       "        <tr>\n",
       "            <td>Emily</td>\n",
       "            <td>Dickinson</td>\n",
       "            <td>Chemistry</td>\n",
       "        </tr>\n",
       "    </tbody>\n",
       "</table>"
      ],
      "text/plain": [
       "[('Mark', 'Twain', 'Mathematics'),\n",
       " ('John', 'Doe', 'Mathematics'),\n",
       " ('Louisa', 'Alcott', 'Physics'),\n",
       " ('Jane', 'Smith', 'Physics'),\n",
       " ('Emily', 'Dickinson', 'Chemistry')]"
      ]
     },
     "execution_count": 29,
     "metadata": {},
     "output_type": "execute_result"
    }
   ],
   "source": [
    "%%sql\n",
    "SELECT students.first_name, students.last_name, courses.name\n",
    "FROM students JOIN courses ON students.course_id = courses.id"
   ]
  },
  {
   "cell_type": "markdown",
   "metadata": {},
   "source": [
    "- Here we perform the required query first to ensure we are returning the correct data"
   ]
  },
  {
   "cell_type": "code",
   "execution_count": 30,
   "metadata": {},
   "outputs": [
    {
     "name": "stdout",
     "output_type": "stream",
     "text": [
      " * postgresql+psycopg2://localhost:5432/db_performance\n",
      "8 rows affected.\n"
     ]
    },
    {
     "data": {
      "text/html": [
       "<table>\n",
       "    <thead>\n",
       "        <tr>\n",
       "            <th>QUERY PLAN</th>\n",
       "        </tr>\n",
       "    </thead>\n",
       "    <tbody>\n",
       "        <tr>\n",
       "            <td>Hash Join  (cost=1.11..13.09 rows=5 width=1548) (actual time=0.118..0.121 rows=5 loops=1)</td>\n",
       "        </tr>\n",
       "        <tr>\n",
       "            <td>&nbsp;&nbsp;Hash Cond: (courses.id = students.course_id)</td>\n",
       "        </tr>\n",
       "        <tr>\n",
       "            <td>&nbsp;&nbsp;-&gt;  Seq Scan on courses  (cost=0.00..11.40 rows=140 width=520) (actual time=0.024..0.024 rows=3 loops=1)</td>\n",
       "        </tr>\n",
       "        <tr>\n",
       "            <td>&nbsp;&nbsp;-&gt;  Hash  (cost=1.05..1.05 rows=5 width=1036) (actual time=0.064..0.064 rows=5 loops=1)</td>\n",
       "        </tr>\n",
       "        <tr>\n",
       "            <td>&nbsp;&nbsp;&nbsp;&nbsp;&nbsp;&nbsp;&nbsp;&nbsp;Buckets: 1024  Batches: 1  Memory Usage: 9kB</td>\n",
       "        </tr>\n",
       "        <tr>\n",
       "            <td>&nbsp;&nbsp;&nbsp;&nbsp;&nbsp;&nbsp;&nbsp;&nbsp;-&gt;  Seq Scan on students  (cost=0.00..1.05 rows=5 width=1036) (actual time=0.010..0.012 rows=5 loops=1)</td>\n",
       "        </tr>\n",
       "        <tr>\n",
       "            <td>Planning Time: 0.177 ms</td>\n",
       "        </tr>\n",
       "        <tr>\n",
       "            <td>Execution Time: 0.409 ms</td>\n",
       "        </tr>\n",
       "    </tbody>\n",
       "</table>"
      ],
      "text/plain": [
       "[('Hash Join  (cost=1.11..13.09 rows=5 width=1548) (actual time=0.118..0.121 rows=5 loops=1)',),\n",
       " ('  Hash Cond: (courses.id = students.course_id)',),\n",
       " ('  ->  Seq Scan on courses  (cost=0.00..11.40 rows=140 width=520) (actual time=0.024..0.024 rows=3 loops=1)',),\n",
       " ('  ->  Hash  (cost=1.05..1.05 rows=5 width=1036) (actual time=0.064..0.064 rows=5 loops=1)',),\n",
       " ('        Buckets: 1024  Batches: 1  Memory Usage: 9kB',),\n",
       " ('        ->  Seq Scan on students  (cost=0.00..1.05 rows=5 width=1036) (actual time=0.010..0.012 rows=5 loops=1)',),\n",
       " ('Planning Time: 0.177 ms',),\n",
       " ('Execution Time: 0.409 ms',)]"
      ]
     },
     "execution_count": 30,
     "metadata": {},
     "output_type": "execute_result"
    }
   ],
   "source": [
    "%%sql\n",
    "EXPLAIN ANALYZE\n",
    "SELECT students.first_name, students.last_name, courses.name\n",
    "FROM students JOIN courses ON students.course_id = courses.id"
   ]
  },
  {
   "cell_type": "markdown",
   "metadata": {},
   "source": [
    "==================================================================================================\n",
    "## Write a query to retrieve students from a specific course with an age greater than 20.\n",
    "- Measure the execution time using the EXPLAIN ANALYZE command."
   ]
  },
  {
   "cell_type": "code",
   "execution_count": 31,
   "metadata": {},
   "outputs": [
    {
     "name": "stdout",
     "output_type": "stream",
     "text": [
      " * postgresql+psycopg2://localhost:5432/db_performance\n",
      "2 rows affected.\n"
     ]
    },
    {
     "data": {
      "text/html": [
       "<table>\n",
       "    <thead>\n",
       "        <tr>\n",
       "            <th>id</th>\n",
       "            <th>first_name</th>\n",
       "            <th>last_name</th>\n",
       "            <th>age</th>\n",
       "            <th>course_id</th>\n",
       "        </tr>\n",
       "    </thead>\n",
       "    <tbody>\n",
       "        <tr>\n",
       "            <td>2</td>\n",
       "            <td>Jane</td>\n",
       "            <td>Smith</td>\n",
       "            <td>22</td>\n",
       "            <td>2</td>\n",
       "        </tr>\n",
       "        <tr>\n",
       "            <td>5</td>\n",
       "            <td>Louisa</td>\n",
       "            <td>Alcott</td>\n",
       "            <td>21</td>\n",
       "            <td>2</td>\n",
       "        </tr>\n",
       "    </tbody>\n",
       "</table>"
      ],
      "text/plain": [
       "[(2, 'Jane', 'Smith', 22, 2), (5, 'Louisa', 'Alcott', 21, 2)]"
      ]
     },
     "execution_count": 31,
     "metadata": {},
     "output_type": "execute_result"
    }
   ],
   "source": [
    "%%sql\n",
    "SELECT *\n",
    "FROM students\n",
    "WHERE course_id = 2 and age > 20;"
   ]
  },
  {
   "cell_type": "markdown",
   "metadata": {},
   "source": [
    "- first creating the query to ensure we're returning the correct results."
   ]
  },
  {
   "cell_type": "code",
   "execution_count": 32,
   "metadata": {},
   "outputs": [
    {
     "name": "stdout",
     "output_type": "stream",
     "text": [
      " * postgresql+psycopg2://localhost:5432/db_performance\n",
      "5 rows affected.\n"
     ]
    },
    {
     "data": {
      "text/html": [
       "<table>\n",
       "    <thead>\n",
       "        <tr>\n",
       "            <th>QUERY PLAN</th>\n",
       "        </tr>\n",
       "    </thead>\n",
       "    <tbody>\n",
       "        <tr>\n",
       "            <td>Seq Scan on students  (cost=0.00..1.07 rows=1 width=1044) (actual time=0.027..0.029 rows=2 loops=1)</td>\n",
       "        </tr>\n",
       "        <tr>\n",
       "            <td>&nbsp;&nbsp;Filter: ((age &gt; 20) AND (course_id = 2))</td>\n",
       "        </tr>\n",
       "        <tr>\n",
       "            <td>&nbsp;&nbsp;Rows Removed by Filter: 3</td>\n",
       "        </tr>\n",
       "        <tr>\n",
       "            <td>Planning Time: 0.111 ms</td>\n",
       "        </tr>\n",
       "        <tr>\n",
       "            <td>Execution Time: 0.291 ms</td>\n",
       "        </tr>\n",
       "    </tbody>\n",
       "</table>"
      ],
      "text/plain": [
       "[('Seq Scan on students  (cost=0.00..1.07 rows=1 width=1044) (actual time=0.027..0.029 rows=2 loops=1)',),\n",
       " ('  Filter: ((age > 20) AND (course_id = 2))',),\n",
       " ('  Rows Removed by Filter: 3',),\n",
       " ('Planning Time: 0.111 ms',),\n",
       " ('Execution Time: 0.291 ms',)]"
      ]
     },
     "execution_count": 32,
     "metadata": {},
     "output_type": "execute_result"
    }
   ],
   "source": [
    "%%sql\n",
    "EXPLAIN ANALYZE\n",
    "SELECT *\n",
    "FROM students\n",
    "WHERE course_id = 2 and age > 20;"
   ]
  },
  {
   "cell_type": "markdown",
   "metadata": {},
   "source": [
    "- Here we use the EXPLAIN ANALYZE method to get an understanding on processing time for the query.\n",
    "- In this case the query took ~0.4ms which is slower than our original queries but faster than the joint table query."
   ]
  },
  {
   "cell_type": "markdown",
   "metadata": {},
   "source": [
    "==================================================================================================\n",
    "# COMPARE TWO QUERIES USING EXPLAIN ANALYZE"
   ]
  },
  {
   "cell_type": "code",
   "execution_count": 33,
   "metadata": {},
   "outputs": [
    {
     "name": "stdout",
     "output_type": "stream",
     "text": [
      " * postgresql+psycopg2://localhost:5432/db_performance\n",
      "3 rows affected.\n"
     ]
    },
    {
     "data": {
      "text/html": [
       "<table>\n",
       "    <thead>\n",
       "        <tr>\n",
       "            <th>id</th>\n",
       "            <th>name</th>\n",
       "            <th>average_age</th>\n",
       "        </tr>\n",
       "    </thead>\n",
       "    <tbody>\n",
       "        <tr>\n",
       "            <td>1</td>\n",
       "            <td>Mathematics</td>\n",
       "            <td>20.5000000000000000</td>\n",
       "        </tr>\n",
       "        <tr>\n",
       "            <td>2</td>\n",
       "            <td>Physics</td>\n",
       "            <td>21.5000000000000000</td>\n",
       "        </tr>\n",
       "        <tr>\n",
       "            <td>3</td>\n",
       "            <td>Chemistry</td>\n",
       "            <td>22.0000000000000000</td>\n",
       "        </tr>\n",
       "    </tbody>\n",
       "</table>"
      ],
      "text/plain": [
       "[(1, 'Mathematics', Decimal('20.5000000000000000')),\n",
       " (2, 'Physics', Decimal('21.5000000000000000')),\n",
       " (3, 'Chemistry', Decimal('22.0000000000000000'))]"
      ]
     },
     "execution_count": 33,
     "metadata": {},
     "output_type": "execute_result"
    }
   ],
   "source": [
    "%%sql\n",
    "SELECT c.id, c.name, (SELECT AVG(age) FROM students WHERE course_id = c.id) AS average_age\n",
    "FROM courses c;"
   ]
  },
  {
   "cell_type": "markdown",
   "metadata": {},
   "source": [
    "- original query attaining an average age for students on each course"
   ]
  },
  {
   "cell_type": "code",
   "execution_count": 34,
   "metadata": {},
   "outputs": [
    {
     "name": "stdout",
     "output_type": "stream",
     "text": [
      " * postgresql+psycopg2://localhost:5432/db_performance\n",
      "8 rows affected.\n"
     ]
    },
    {
     "data": {
      "text/html": [
       "<table>\n",
       "    <thead>\n",
       "        <tr>\n",
       "            <th>QUERY PLAN</th>\n",
       "        </tr>\n",
       "    </thead>\n",
       "    <tbody>\n",
       "        <tr>\n",
       "            <td>Seq Scan on courses c  (cost=0.00..162.25 rows=140 width=552) (actual time=0.056..0.065 rows=3 loops=1)</td>\n",
       "        </tr>\n",
       "        <tr>\n",
       "            <td>&nbsp;&nbsp;SubPlan 1</td>\n",
       "        </tr>\n",
       "        <tr>\n",
       "            <td>&nbsp;&nbsp;&nbsp;&nbsp;-&gt;  Aggregate  (cost=1.07..1.08 rows=1 width=32) (actual time=0.010..0.010 rows=1 loops=3)</td>\n",
       "        </tr>\n",
       "        <tr>\n",
       "            <td>&nbsp;&nbsp;&nbsp;&nbsp;&nbsp;&nbsp;&nbsp;&nbsp;&nbsp;&nbsp;-&gt;  Seq Scan on students  (cost=0.00..1.06 rows=1 width=4) (actual time=0.004..0.004 rows=2 loops=3)</td>\n",
       "        </tr>\n",
       "        <tr>\n",
       "            <td>&nbsp;&nbsp;&nbsp;&nbsp;&nbsp;&nbsp;&nbsp;&nbsp;&nbsp;&nbsp;&nbsp;&nbsp;&nbsp;&nbsp;&nbsp;&nbsp;Filter: (course_id = c.id)</td>\n",
       "        </tr>\n",
       "        <tr>\n",
       "            <td>&nbsp;&nbsp;&nbsp;&nbsp;&nbsp;&nbsp;&nbsp;&nbsp;&nbsp;&nbsp;&nbsp;&nbsp;&nbsp;&nbsp;&nbsp;&nbsp;Rows Removed by Filter: 3</td>\n",
       "        </tr>\n",
       "        <tr>\n",
       "            <td>Planning Time: 0.146 ms</td>\n",
       "        </tr>\n",
       "        <tr>\n",
       "            <td>Execution Time: 0.120 ms</td>\n",
       "        </tr>\n",
       "    </tbody>\n",
       "</table>"
      ],
      "text/plain": [
       "[('Seq Scan on courses c  (cost=0.00..162.25 rows=140 width=552) (actual time=0.056..0.065 rows=3 loops=1)',),\n",
       " ('  SubPlan 1',),\n",
       " ('    ->  Aggregate  (cost=1.07..1.08 rows=1 width=32) (actual time=0.010..0.010 rows=1 loops=3)',),\n",
       " ('          ->  Seq Scan on students  (cost=0.00..1.06 rows=1 width=4) (actual time=0.004..0.004 rows=2 loops=3)',),\n",
       " ('                Filter: (course_id = c.id)',),\n",
       " ('                Rows Removed by Filter: 3',),\n",
       " ('Planning Time: 0.146 ms',),\n",
       " ('Execution Time: 0.120 ms',)]"
      ]
     },
     "execution_count": 34,
     "metadata": {},
     "output_type": "execute_result"
    }
   ],
   "source": [
    "%%sql\n",
    "EXPLAIN ANALYZE\n",
    "SELECT c.id, c.name, (SELECT AVG(age) FROM students WHERE course_id = c.id) AS average_age\n",
    "FROM courses c;"
   ]
  },
  {
   "cell_type": "markdown",
   "metadata": {},
   "source": [
    "- Initial results from EXPLAIN ANALYZE on the previous code block query.\n",
    "- Total time = (0.146+0.120) = 0.266ms"
   ]
  },
  {
   "cell_type": "code",
   "execution_count": 41,
   "metadata": {},
   "outputs": [
    {
     "name": "stdout",
     "output_type": "stream",
     "text": [
      " * postgresql+psycopg2://localhost:5432/db_performance\n",
      "3 rows affected.\n"
     ]
    },
    {
     "data": {
      "text/html": [
       "<table>\n",
       "    <thead>\n",
       "        <tr>\n",
       "            <th>id</th>\n",
       "            <th>name</th>\n",
       "            <th>average_age</th>\n",
       "        </tr>\n",
       "    </thead>\n",
       "    <tbody>\n",
       "        <tr>\n",
       "            <td>1</td>\n",
       "            <td>Mathematics</td>\n",
       "            <td>20.5000000000000000</td>\n",
       "        </tr>\n",
       "        <tr>\n",
       "            <td>2</td>\n",
       "            <td>Physics</td>\n",
       "            <td>21.5000000000000000</td>\n",
       "        </tr>\n",
       "        <tr>\n",
       "            <td>3</td>\n",
       "            <td>Chemistry</td>\n",
       "            <td>22.0000000000000000</td>\n",
       "        </tr>\n",
       "    </tbody>\n",
       "</table>"
      ],
      "text/plain": [
       "[(1, 'Mathematics', Decimal('20.5000000000000000')),\n",
       " (2, 'Physics', Decimal('21.5000000000000000')),\n",
       " (3, 'Chemistry', Decimal('22.0000000000000000'))]"
      ]
     },
     "execution_count": 41,
     "metadata": {},
     "output_type": "execute_result"
    }
   ],
   "source": [
    "%%sql\n",
    "SELECT courses.id, courses.name, AVG(students.age) AS average_age\n",
    "FROM courses\n",
    "JOIN students ON courses.id = students.course_id\n",
    "GROUP BY courses.id, courses.name;\n"
   ]
  },
  {
   "cell_type": "markdown",
   "metadata": {},
   "source": [
    "- creating the query to find average ages of students per course while using JOIN and GROUP BY methods"
   ]
  },
  {
   "cell_type": "code",
   "execution_count": 42,
   "metadata": {},
   "outputs": [
    {
     "name": "stdout",
     "output_type": "stream",
     "text": [
      " * postgresql+psycopg2://localhost:5432/db_performance\n",
      "13 rows affected.\n"
     ]
    },
    {
     "data": {
      "text/html": [
       "<table>\n",
       "    <thead>\n",
       "        <tr>\n",
       "            <th>QUERY PLAN</th>\n",
       "        </tr>\n",
       "    </thead>\n",
       "    <tbody>\n",
       "        <tr>\n",
       "            <td>GroupAggregate  (cost=13.15..13.25 rows=5 width=552) (actual time=0.086..0.090 rows=3 loops=1)</td>\n",
       "        </tr>\n",
       "        <tr>\n",
       "            <td>&nbsp;&nbsp;Group Key: courses.id</td>\n",
       "        </tr>\n",
       "        <tr>\n",
       "            <td>&nbsp;&nbsp;-&gt;  Sort  (cost=13.15..13.16 rows=5 width=524) (actual time=0.077..0.078 rows=5 loops=1)</td>\n",
       "        </tr>\n",
       "        <tr>\n",
       "            <td>&nbsp;&nbsp;&nbsp;&nbsp;&nbsp;&nbsp;&nbsp;&nbsp;Sort Key: courses.id</td>\n",
       "        </tr>\n",
       "        <tr>\n",
       "            <td>&nbsp;&nbsp;&nbsp;&nbsp;&nbsp;&nbsp;&nbsp;&nbsp;Sort Method: quicksort  Memory: 25kB</td>\n",
       "        </tr>\n",
       "        <tr>\n",
       "            <td>&nbsp;&nbsp;&nbsp;&nbsp;&nbsp;&nbsp;&nbsp;&nbsp;-&gt;  Hash Join  (cost=1.11..13.09 rows=5 width=524) (actual time=0.055..0.058 rows=5 loops=1)</td>\n",
       "        </tr>\n",
       "        <tr>\n",
       "            <td>&nbsp;&nbsp;&nbsp;&nbsp;&nbsp;&nbsp;&nbsp;&nbsp;&nbsp;&nbsp;&nbsp;&nbsp;&nbsp;&nbsp;Hash Cond: (courses.id = students.course_id)</td>\n",
       "        </tr>\n",
       "        <tr>\n",
       "            <td>&nbsp;&nbsp;&nbsp;&nbsp;&nbsp;&nbsp;&nbsp;&nbsp;&nbsp;&nbsp;&nbsp;&nbsp;&nbsp;&nbsp;-&gt;  Seq Scan on courses  (cost=0.00..11.40 rows=140 width=520) (actual time=0.018..0.019 rows=3 loops=1)</td>\n",
       "        </tr>\n",
       "        <tr>\n",
       "            <td>&nbsp;&nbsp;&nbsp;&nbsp;&nbsp;&nbsp;&nbsp;&nbsp;&nbsp;&nbsp;&nbsp;&nbsp;&nbsp;&nbsp;-&gt;  Hash  (cost=1.05..1.05 rows=5 width=8) (actual time=0.023..0.024 rows=5 loops=1)</td>\n",
       "        </tr>\n",
       "        <tr>\n",
       "            <td>&nbsp;&nbsp;&nbsp;&nbsp;&nbsp;&nbsp;&nbsp;&nbsp;&nbsp;&nbsp;&nbsp;&nbsp;&nbsp;&nbsp;&nbsp;&nbsp;&nbsp;&nbsp;&nbsp;&nbsp;Buckets: 1024  Batches: 1  Memory Usage: 9kB</td>\n",
       "        </tr>\n",
       "        <tr>\n",
       "            <td>&nbsp;&nbsp;&nbsp;&nbsp;&nbsp;&nbsp;&nbsp;&nbsp;&nbsp;&nbsp;&nbsp;&nbsp;&nbsp;&nbsp;&nbsp;&nbsp;&nbsp;&nbsp;&nbsp;&nbsp;-&gt;  Seq Scan on students  (cost=0.00..1.05 rows=5 width=8) (actual time=0.010..0.011 rows=5 loops=1)</td>\n",
       "        </tr>\n",
       "        <tr>\n",
       "            <td>Planning Time: 0.284 ms</td>\n",
       "        </tr>\n",
       "        <tr>\n",
       "            <td>Execution Time: 0.150 ms</td>\n",
       "        </tr>\n",
       "    </tbody>\n",
       "</table>"
      ],
      "text/plain": [
       "[('GroupAggregate  (cost=13.15..13.25 rows=5 width=552) (actual time=0.086..0.090 rows=3 loops=1)',),\n",
       " ('  Group Key: courses.id',),\n",
       " ('  ->  Sort  (cost=13.15..13.16 rows=5 width=524) (actual time=0.077..0.078 rows=5 loops=1)',),\n",
       " ('        Sort Key: courses.id',),\n",
       " ('        Sort Method: quicksort  Memory: 25kB',),\n",
       " ('        ->  Hash Join  (cost=1.11..13.09 rows=5 width=524) (actual time=0.055..0.058 rows=5 loops=1)',),\n",
       " ('              Hash Cond: (courses.id = students.course_id)',),\n",
       " ('              ->  Seq Scan on courses  (cost=0.00..11.40 rows=140 width=520) (actual time=0.018..0.019 rows=3 loops=1)',),\n",
       " ('              ->  Hash  (cost=1.05..1.05 rows=5 width=8) (actual time=0.023..0.024 rows=5 loops=1)',),\n",
       " ('                    Buckets: 1024  Batches: 1  Memory Usage: 9kB',),\n",
       " ('                    ->  Seq Scan on students  (cost=0.00..1.05 rows=5 width=8) (actual time=0.010..0.011 rows=5 loops=1)',),\n",
       " ('Planning Time: 0.284 ms',),\n",
       " ('Execution Time: 0.150 ms',)]"
      ]
     },
     "execution_count": 42,
     "metadata": {},
     "output_type": "execute_result"
    }
   ],
   "source": [
    "%%sql\n",
    "EXPLAIN ANALYZE\n",
    "SELECT courses.id, courses.name, AVG(students.age) AS average_age\n",
    "FROM courses\n",
    "JOIN students ON courses.id = students.course_id\n",
    "GROUP BY courses.id, courses.name;"
   ]
  },
  {
   "cell_type": "markdown",
   "metadata": {},
   "source": [
    "- total time = (0.284 + 0.150) = 0.434\n",
    "- after using EXPLAIN ANALYZE we can differ that this method has increased the total time taken by (0.434 - 0.266) = 0.1679\n",
    "- I'm unsure if its accurate for continuous attempts but we can see even though the execution time is similar between both. The planning time takes alot longer with the grouping and joining tables query\n",
    "- Is this even the intended exercise result ? More legible querries result in poorer exicution times ? \n",
    "- obviously not enough data to defer real conclusions.\n",
    "\n",
    "- Apparently these results are contrary to the expected outcome - this maybe due to a host of reasons - but i beleive the results would have been more correlated to the hypotosis if a larger dataset was used."
   ]
  },
  {
   "cell_type": "code",
   "execution_count": null,
   "metadata": {},
   "outputs": [],
   "source": []
  }
 ],
 "metadata": {
  "kernelspec": {
   "display_name": ".venv",
   "language": "python",
   "name": "python3"
  },
  "language_info": {
   "codemirror_mode": {
    "name": "ipython",
    "version": 3
   },
   "file_extension": ".py",
   "mimetype": "text/x-python",
   "name": "python",
   "nbconvert_exporter": "python",
   "pygments_lexer": "ipython3",
   "version": "3.11.6"
  }
 },
 "nbformat": 4,
 "nbformat_minor": 2
}
